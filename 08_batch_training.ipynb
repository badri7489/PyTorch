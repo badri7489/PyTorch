{
 "cells": [
  {
   "cell_type": "markdown",
   "metadata": {},
   "source": [
    "#### epoch = 1 forwarf and backward pass of ALL training samples\n",
    "\n",
    "#### batch_size = number of training samples in one forward and backward pass\n",
    "\n",
    "#### number of iterations = number of passes, each pass using [batch_size] number of samples\n",
    "\n",
    "#### ex. 100 samples, batch_size = 20 -> 100/20 = 5 iterations for 1 epoch"
   ]
  },
  {
   "cell_type": "code",
   "execution_count": 1,
   "metadata": {},
   "outputs": [],
   "source": [
    "import torch\n",
    "import torchvision\n",
    "from torch.utils.data import Dataset, DataLoader\n",
    "import numpy as np\n",
    "import math"
   ]
  },
  {
   "cell_type": "code",
   "execution_count": 2,
   "metadata": {},
   "outputs": [],
   "source": [
    "class WineDataset(Dataset):\n",
    "\n",
    "    def __init__(self):\n",
    "        # data loading\n",
    "        xy = np.loadtxt('./wine.csv', delimiter=\",\", dtype=np.float32, skiprows=1)\n",
    "        self.x = torch.from_numpy(xy[:, 1:])\n",
    "        self.y = torch.from_numpy(xy[:, [0]])\n",
    "        self.n_samples = xy.shape[0]\n",
    "    \n",
    "    def __getitem__(self, index):\n",
    "        # dataset[0]\n",
    "        return self.x[index], self.y[index]\n",
    "\n",
    "    def __len__(self):\n",
    "        # len(dataset)\n",
    "        return self.n_samples"
   ]
  },
  {
   "cell_type": "code",
   "execution_count": 3,
   "metadata": {},
   "outputs": [],
   "source": [
    "dataset = WineDataset()\n",
    "dataloader = DataLoader(dataset=dataset, batch_size=4, shuffle=True, num_workers=0)"
   ]
  },
  {
   "cell_type": "code",
   "execution_count": 4,
   "metadata": {},
   "outputs": [
    {
     "name": "stdout",
     "output_type": "stream",
     "text": [
      "tensor([[1.2370e+01, 1.2100e+00, 2.5600e+00, 1.8100e+01, 9.8000e+01, 2.4200e+00,\n",
      "         2.6500e+00, 3.7000e-01, 2.0800e+00, 4.6000e+00, 1.1900e+00, 2.3000e+00,\n",
      "         6.7800e+02],\n",
      "        [1.4220e+01, 1.7000e+00, 2.3000e+00, 1.6300e+01, 1.1800e+02, 3.2000e+00,\n",
      "         3.0000e+00, 2.6000e-01, 2.0300e+00, 6.3800e+00, 9.4000e-01, 3.3100e+00,\n",
      "         9.7000e+02],\n",
      "        [1.3050e+01, 1.6500e+00, 2.5500e+00, 1.8000e+01, 9.8000e+01, 2.4500e+00,\n",
      "         2.4300e+00, 2.9000e-01, 1.4400e+00, 4.2500e+00, 1.1200e+00, 2.5100e+00,\n",
      "         1.1050e+03],\n",
      "        [1.2420e+01, 1.6100e+00, 2.1900e+00, 2.2500e+01, 1.0800e+02, 2.0000e+00,\n",
      "         2.0900e+00, 3.4000e-01, 1.6100e+00, 2.0600e+00, 1.0600e+00, 2.9600e+00,\n",
      "         3.4500e+02]]) tensor([[2.],\n",
      "        [1.],\n",
      "        [1.],\n",
      "        [2.]])\n"
     ]
    }
   ],
   "source": [
    "dataiter = iter(dataloader)\n",
    "data = dataiter.next()\n",
    "features, labels = data\n",
    "print(features, labels)"
   ]
  },
  {
   "cell_type": "code",
   "execution_count": 6,
   "metadata": {},
   "outputs": [
    {
     "name": "stdout",
     "output_type": "stream",
     "text": [
      "178 45\n",
      "epoch 1 / 2, step 5 / 45, inputs torch.Size([4, 13])\n",
      "epoch 1 / 2, step 10 / 45, inputs torch.Size([4, 13])\n",
      "epoch 1 / 2, step 15 / 45, inputs torch.Size([4, 13])\n",
      "epoch 1 / 2, step 20 / 45, inputs torch.Size([4, 13])\n",
      "epoch 1 / 2, step 25 / 45, inputs torch.Size([4, 13])\n",
      "epoch 1 / 2, step 30 / 45, inputs torch.Size([4, 13])\n",
      "epoch 1 / 2, step 35 / 45, inputs torch.Size([4, 13])\n",
      "epoch 1 / 2, step 40 / 45, inputs torch.Size([4, 13])\n",
      "epoch 1 / 2, step 45 / 45, inputs torch.Size([2, 13])\n",
      "epoch 2 / 2, step 5 / 45, inputs torch.Size([4, 13])\n",
      "epoch 2 / 2, step 10 / 45, inputs torch.Size([4, 13])\n",
      "epoch 2 / 2, step 15 / 45, inputs torch.Size([4, 13])\n",
      "epoch 2 / 2, step 20 / 45, inputs torch.Size([4, 13])\n",
      "epoch 2 / 2, step 25 / 45, inputs torch.Size([4, 13])\n",
      "epoch 2 / 2, step 30 / 45, inputs torch.Size([4, 13])\n",
      "epoch 2 / 2, step 35 / 45, inputs torch.Size([4, 13])\n",
      "epoch 2 / 2, step 40 / 45, inputs torch.Size([4, 13])\n",
      "epoch 2 / 2, step 45 / 45, inputs torch.Size([2, 13])\n"
     ]
    }
   ],
   "source": [
    "# training loop\n",
    "num_epochs = 2\n",
    "total_samples = len(dataset)\n",
    "n_iterations = math.ceil(total_samples / 4)\n",
    "print(total_samples, n_iterations)\n",
    "for epoch in range(num_epochs):\n",
    "    for  i, (inputs, labels) in enumerate(dataloader):\n",
    "        # forward, backward and update\n",
    "        if (i + 1) % 5 == 0:\n",
    "            print(f'epoch {epoch + 1} / {num_epochs}, step {i + 1} / {n_iterations}, inputs {inputs.shape}')"
   ]
  },
  {
   "cell_type": "code",
   "execution_count": null,
   "metadata": {},
   "outputs": [],
   "source": []
  }
 ],
 "metadata": {
  "interpreter": {
   "hash": "6274a6cf0e94cf85e33a0aee358140d86627e26aa5b3d009f337a2dfbf3cf1fc"
  },
  "kernelspec": {
   "display_name": "Python 3.9.9 64-bit ('venv': venv)",
   "language": "python",
   "name": "python3"
  },
  "language_info": {
   "codemirror_mode": {
    "name": "ipython",
    "version": 3
   },
   "file_extension": ".py",
   "mimetype": "text/x-python",
   "name": "python",
   "nbconvert_exporter": "python",
   "pygments_lexer": "ipython3",
   "version": "3.9.9"
  },
  "orig_nbformat": 4
 },
 "nbformat": 4,
 "nbformat_minor": 2
}
