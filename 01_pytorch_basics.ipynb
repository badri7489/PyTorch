{
 "cells": [
  {
   "cell_type": "code",
   "execution_count": 1,
   "metadata": {},
   "outputs": [],
   "source": [
    "import torch\n",
    "import numpy as np"
   ]
  },
  {
   "cell_type": "code",
   "execution_count": 2,
   "metadata": {},
   "outputs": [
    {
     "name": "stdout",
     "output_type": "stream",
     "text": [
      "tensor([0.])\n"
     ]
    }
   ],
   "source": [
    "x = torch.empty(1)\n",
    "print(x)"
   ]
  },
  {
   "cell_type": "code",
   "execution_count": 3,
   "metadata": {},
   "outputs": [
    {
     "name": "stdout",
     "output_type": "stream",
     "text": [
      "tensor([[[[3.1950e-43, 0.0000e+00, 0.0000e+00, 0.0000e+00, 1.1095e+27],\n",
      "          [1.3566e-14, 3.3738e-12, 1.7592e+22, 1.4355e-19, 2.7530e+12],\n",
      "          [7.5338e+28, 5.9288e+11, 6.7120e+22, 4.6114e+24, 2.1459e+20],\n",
      "          [9.2489e-04, 1.1096e+27, 5.0825e+31, 7.5338e+28, 1.0886e+27]],\n",
      "\n",
      "         [[1.9603e-19, 1.9432e-19, 6.9772e+22, 1.6931e+22, 4.5144e+27],\n",
      "          [1.8393e+25, 1.8496e+20, 4.6114e+24, 1.7463e+25, 2.0193e-19],\n",
      "          [6.7421e+22, 2.3739e+12, 2.0618e-19, 4.3988e+21, 1.8524e+28],\n",
      "          [7.2714e+31, 1.8892e+31, 8.1322e+32, 2.0955e-19, 5.0833e+31]],\n",
      "\n",
      "         [[4.9640e+28, 1.7485e+25, 2.0022e-19, 1.8888e+31, 3.2543e+33],\n",
      "          [1.9690e-19, 1.9432e-19, 7.2728e+22, 1.7237e+25, 1.8888e+31],\n",
      "          [2.0196e-19, 7.3471e+28, 5.1931e-11, 3.8235e+30, 8.9773e-33],\n",
      "          [1.3563e-19, 2.0110e-19, 7.5555e+31, 5.0778e+31, 1.1835e+22]]],\n",
      "\n",
      "\n",
      "        [[[1.7751e+28, 1.8524e+28, 2.0283e-19, 4.3059e+21, 1.3556e-19],\n",
      "          [1.8037e+28, 2.1040e-19, 7.5555e+31, 5.0778e+31, 1.2119e+25],\n",
      "          [1.8611e+34, 2.0283e-19, 6.9772e+22, 3.2544e+33, 1.1192e-32],\n",
      "          [1.4754e-19, 7.2145e+22, 6.6554e-33, 1.3563e-19, 7.2708e+31]],\n",
      "\n",
      "         [[1.7765e+31, 4.2321e+21, 1.2118e+25, 1.1346e+30, 2.8409e+20],\n",
      "          [7.5551e+31, 2.0283e-19, 4.3059e+21, 5.2621e-11, 4.7393e+30],\n",
      "          [2.8638e+20, 6.9785e+22, 1.3556e-19, 6.4600e+19, 1.8888e+31],\n",
      "          [1.3821e+31, 4.2321e+21, 2.5034e-12, 1.7592e+22, 4.8846e+19]],\n",
      "\n",
      "         [[1.8470e+31, 3.0600e+32, 1.0903e+27, 2.0704e-19, 4.6242e+19],\n",
      "          [1.7753e+28, 6.8239e+16, 6.7421e+22, 6.4669e+19, 1.7589e+22],\n",
      "          [1.3563e-19, 7.1107e+31, 7.5338e+28, 7.1774e+22, 7.2065e+31],\n",
      "          [1.4586e-19, 6.7421e+22, 6.4610e+19, 2.0618e-19, 1.8545e+25]]]])\n"
     ]
    }
   ],
   "source": [
    "x = torch.empty(2, 3, 4, 5)\n",
    "print(x)"
   ]
  },
  {
   "cell_type": "code",
   "execution_count": 4,
   "metadata": {},
   "outputs": [
    {
     "name": "stdout",
     "output_type": "stream",
     "text": [
      "tensor([[0.6731, 0.0572, 0.5418],\n",
      "        [0.4676, 0.0607, 0.1579]])\n"
     ]
    }
   ],
   "source": [
    "x = torch.rand(2, 3)\n",
    "print(x)"
   ]
  },
  {
   "cell_type": "code",
   "execution_count": 5,
   "metadata": {},
   "outputs": [
    {
     "name": "stdout",
     "output_type": "stream",
     "text": [
      "tensor([0.5893])\n"
     ]
    }
   ],
   "source": [
    "x = torch.rand(1)\n",
    "print(x)"
   ]
  },
  {
   "cell_type": "code",
   "execution_count": 6,
   "metadata": {},
   "outputs": [
    {
     "name": "stdout",
     "output_type": "stream",
     "text": [
      "tensor([[0., 0., 0.],\n",
      "        [0., 0., 0.]])\n"
     ]
    }
   ],
   "source": [
    "x = torch.zeros(2, 3)\n",
    "print(x)"
   ]
  },
  {
   "cell_type": "code",
   "execution_count": 7,
   "metadata": {},
   "outputs": [
    {
     "name": "stdout",
     "output_type": "stream",
     "text": [
      "tensor([[1., 1., 1.],\n",
      "        [1., 1., 1.]])\n"
     ]
    }
   ],
   "source": [
    "x = torch.ones(2, 3)\n",
    "print (x)"
   ]
  },
  {
   "cell_type": "code",
   "execution_count": 8,
   "metadata": {},
   "outputs": [
    {
     "data": {
      "text/plain": [
       "torch.float32"
      ]
     },
     "execution_count": 8,
     "metadata": {},
     "output_type": "execute_result"
    }
   ],
   "source": [
    "x.dtype"
   ]
  },
  {
   "cell_type": "code",
   "execution_count": 9,
   "metadata": {},
   "outputs": [
    {
     "data": {
      "text/plain": [
       "torch.int32"
      ]
     },
     "execution_count": 9,
     "metadata": {},
     "output_type": "execute_result"
    }
   ],
   "source": [
    "x = torch.ones(2, 3, dtype=torch.int)\n",
    "x.dtype"
   ]
  },
  {
   "cell_type": "code",
   "execution_count": 10,
   "metadata": {},
   "outputs": [
    {
     "name": "stdout",
     "output_type": "stream",
     "text": [
      "torch.Size([2, 3])\n"
     ]
    }
   ],
   "source": [
    "print(x.size())"
   ]
  },
  {
   "cell_type": "code",
   "execution_count": 11,
   "metadata": {},
   "outputs": [
    {
     "name": "stdout",
     "output_type": "stream",
     "text": [
      "tensor([2.4000, 5.2000])\n"
     ]
    }
   ],
   "source": [
    "x = torch.tensor([2.4, 5.2])\n",
    "print(x)"
   ]
  },
  {
   "cell_type": "code",
   "execution_count": 12,
   "metadata": {},
   "outputs": [
    {
     "name": "stdout",
     "output_type": "stream",
     "text": [
      "tensor([[0.0740, 0.3722],\n",
      "        [0.8453, 0.7399]])\n",
      "tensor([[0.8189, 0.2334],\n",
      "        [0.5984, 0.6728]])\n",
      "tensor([[0.8929, 0.6056],\n",
      "        [1.4437, 1.4128]])\n"
     ]
    }
   ],
   "source": [
    "x = torch.rand(2, 2)\n",
    "y = torch.rand(2, 2)\n",
    "print(x)\n",
    "print(y)\n",
    "\n",
    "z = x + y\n",
    "z = torch.add(x, y)\n",
    "print(z)"
   ]
  },
  {
   "cell_type": "code",
   "execution_count": 13,
   "metadata": {},
   "outputs": [
    {
     "name": "stdout",
     "output_type": "stream",
     "text": [
      "tensor([[0.5326, 0.0436],\n",
      "        [0.3156, 0.1729]])\n",
      "tensor([[0.4036, 0.7184],\n",
      "        [0.3696, 0.7883]])\n",
      "tensor([[0.9362, 0.7620],\n",
      "        [0.6851, 0.9611]])\n"
     ]
    }
   ],
   "source": [
    "x = torch.rand(2, 2)\n",
    "y = torch.rand(2, 2)\n",
    "print(x)\n",
    "print(y)\n",
    "y.add_(x)   # In pytorch every function with trailing underscore will do inplace functionality\n",
    "print(y)"
   ]
  },
  {
   "cell_type": "code",
   "execution_count": 14,
   "metadata": {},
   "outputs": [
    {
     "name": "stdout",
     "output_type": "stream",
     "text": [
      "tensor([[-0.4036, -0.7184],\n",
      "        [-0.3696, -0.7883]])\n"
     ]
    }
   ],
   "source": [
    "z = x - y\n",
    "z = torch.sub(x, y)\n",
    "print(z)"
   ]
  },
  {
   "cell_type": "code",
   "execution_count": 15,
   "metadata": {},
   "outputs": [
    {
     "name": "stdout",
     "output_type": "stream",
     "text": [
      "tensor([[0.4986, 0.0332],\n",
      "        [0.2162, 0.1661]])\n"
     ]
    }
   ],
   "source": [
    "z = torch.mul(x, y)\n",
    "print(z)"
   ]
  },
  {
   "cell_type": "code",
   "execution_count": 16,
   "metadata": {},
   "outputs": [
    {
     "name": "stdout",
     "output_type": "stream",
     "text": [
      "tensor([[0.5689, 0.0572],\n",
      "        [0.4606, 0.1799]])\n"
     ]
    }
   ],
   "source": [
    "z = torch.div(x, y)\n",
    "print(z)"
   ]
  },
  {
   "cell_type": "code",
   "execution_count": 17,
   "metadata": {},
   "outputs": [
    {
     "name": "stdout",
     "output_type": "stream",
     "text": [
      "tensor([[0.5159, 0.5179, 0.3201],\n",
      "        [0.8008, 0.6121, 0.3343],\n",
      "        [0.6981, 0.7885, 0.1291],\n",
      "        [0.9500, 0.9442, 0.7179],\n",
      "        [0.7966, 0.3559, 0.8594]])\n",
      "0.6121405959129333\n"
     ]
    }
   ],
   "source": [
    "x = torch.rand(5, 3)\n",
    "print(x)\n",
    "print(x[1, 1].item())"
   ]
  },
  {
   "cell_type": "code",
   "execution_count": 18,
   "metadata": {},
   "outputs": [
    {
     "name": "stdout",
     "output_type": "stream",
     "text": [
      "tensor([[0.5159, 0.5179],\n",
      "        [0.8008, 0.6121],\n",
      "        [0.6981, 0.7885],\n",
      "        [0.9500, 0.9442],\n",
      "        [0.7966, 0.3559]])\n"
     ]
    }
   ],
   "source": [
    "print(x[:, 0:2])"
   ]
  },
  {
   "cell_type": "code",
   "execution_count": 19,
   "metadata": {},
   "outputs": [
    {
     "name": "stdout",
     "output_type": "stream",
     "text": [
      "tensor([[0.6508, 0.1485, 0.4081, 0.4222],\n",
      "        [0.6390, 0.0735, 0.5224, 0.9513],\n",
      "        [0.5375, 0.0581, 0.5479, 0.3529],\n",
      "        [0.4482, 0.8887, 0.6463, 0.0032]])\n",
      "tensor([0.6508, 0.1485, 0.4081, 0.4222, 0.6390, 0.0735, 0.5224, 0.9513, 0.5375,\n",
      "        0.0581, 0.5479, 0.3529, 0.4482, 0.8887, 0.6463, 0.0032])\n"
     ]
    }
   ],
   "source": [
    "x = torch.rand(4, 4)\n",
    "print(x)\n",
    "\n",
    "y = x.view(16)\n",
    "print(y)"
   ]
  },
  {
   "cell_type": "code",
   "execution_count": 20,
   "metadata": {},
   "outputs": [
    {
     "name": "stdout",
     "output_type": "stream",
     "text": [
      "tensor([[0.6508, 0.1485, 0.4081, 0.4222, 0.6390, 0.0735, 0.5224, 0.9513],\n",
      "        [0.5375, 0.0581, 0.5479, 0.3529, 0.4482, 0.8887, 0.6463, 0.0032]])\n"
     ]
    }
   ],
   "source": [
    "y = x.view(-1, 8)\n",
    "print(y)"
   ]
  },
  {
   "cell_type": "code",
   "execution_count": 21,
   "metadata": {},
   "outputs": [
    {
     "name": "stdout",
     "output_type": "stream",
     "text": [
      "tensor([1., 1., 1., 1., 1.])\n",
      "<class 'numpy.ndarray'>\n"
     ]
    }
   ],
   "source": [
    "a = torch.ones(5)\n",
    "print(a)\n",
    "b = a.numpy()\n",
    "print(type(b))"
   ]
  },
  {
   "cell_type": "code",
   "execution_count": 22,
   "metadata": {},
   "outputs": [
    {
     "name": "stdout",
     "output_type": "stream",
     "text": [
      "tensor([2., 2., 2., 2., 2.])\n",
      "[2. 2. 2. 2. 2.]\n"
     ]
    }
   ],
   "source": [
    "a.add_(1)\n",
    "print(a)\n",
    "print(b)    # since we are using CPU memory, if we modify the tensor, the numpy array is also modified and vice versa"
   ]
  },
  {
   "cell_type": "code",
   "execution_count": 23,
   "metadata": {},
   "outputs": [
    {
     "name": "stdout",
     "output_type": "stream",
     "text": [
      "[1. 1. 1. 1. 1.]\n",
      "tensor([1., 1., 1., 1., 1.], dtype=torch.float64)\n",
      "[2. 2. 2. 2. 2.]\n",
      "tensor([2., 2., 2., 2., 2.], dtype=torch.float64)\n"
     ]
    }
   ],
   "source": [
    "a = np.ones(5)\n",
    "print(a)\n",
    "b = torch.from_numpy(a)\n",
    "print(b)\n",
    "\n",
    "a += 1\n",
    "print(a)\n",
    "print(b)"
   ]
  },
  {
   "cell_type": "code",
   "execution_count": null,
   "metadata": {},
   "outputs": [],
   "source": []
  }
 ],
 "metadata": {
  "interpreter": {
   "hash": "6274a6cf0e94cf85e33a0aee358140d86627e26aa5b3d009f337a2dfbf3cf1fc"
  },
  "kernelspec": {
   "display_name": "Python 3.9.9 64-bit ('venv': venv)",
   "language": "python",
   "name": "python3"
  },
  "language_info": {
   "codemirror_mode": {
    "name": "ipython",
    "version": 3
   },
   "file_extension": ".py",
   "mimetype": "text/x-python",
   "name": "python",
   "nbconvert_exporter": "python",
   "pygments_lexer": "ipython3",
   "version": "3.9.9"
  },
  "orig_nbformat": 4
 },
 "nbformat": 4,
 "nbformat_minor": 2
}
